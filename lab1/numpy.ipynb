{
  "cells": [
    {
      "cell_type": "markdown",
      "metadata": {
        "id": "vC84e9kzyxPy"
      },
      "source": [
        "<h1>Импорт библиотек"
      ]
    },
    {
      "cell_type": "code",
      "execution_count": 4,
      "metadata": {
        "id": "cgKeNegmQG5S"
      },
      "outputs": [],
      "source": [
        "import numpy as np\n",
        "import matplotlib.pyplot as plt"
      ]
    },
    {
      "cell_type": "markdown",
      "metadata": {
        "id": "qFM9uVU2x4Ls"
      },
      "source": [
        "<h1>Задача 1. Дан набор из $p$ матриц размерностью $(n, n)$ и $p$ векторов размерностью $(n, 1)$, найти сумму произведений матриц на векторы. Написать тесты для кода"
      ]
    },
    {
      "cell_type": "code",
      "execution_count": 5,
      "metadata": {
        "id": "IAbUvEiYyWFF"
      },
      "outputs": [],
      "source": [
        "def sum_prod(X, V):\n",
        "    '''\n",
        "    X - матрицы (n, n)\n",
        "    V - векторы (n, 1)\n",
        "    Гарантируется, что len(X) == len(V)\n",
        "    '''\n",
        "    number_matrices = len(X)\n",
        "    sum_products = 0.0\n",
        "    for i in range(number_matrices):\n",
        "        sum_products += X[i] @ V[i]\n",
        "    \n",
        "    return sum_products"
      ]
    },
    {
      "cell_type": "markdown",
      "metadata": {},
      "source": [
        "# Тесты"
      ]
    },
    {
      "cell_type": "code",
      "execution_count": 47,
      "metadata": {},
      "outputs": [
        {
          "name": "stdout",
          "output_type": "stream",
          "text": [
            "Тест 1 пройден\n",
            "Тест 2 пройден\n"
          ]
        }
      ],
      "source": [
        "def test1():\n",
        "    matrices = [np.arange(4,13).reshape(3,3), np.array([[1,2,3], [2,5,6], [6,7,4]])]\n",
        "    vectors = [np.array([1,2,3]), np.array([4,7,2])]\n",
        "    sum_products = sum_prod(matrices, vectors)\n",
        "\n",
        "    assert np.array_equal(sum_products, [56, 105, 149]), \"Тест 1 не пройден\"\n",
        "    print('Тест 1 пройден')\n",
        "\n",
        "test1()\n",
        "\n",
        "def test2():\n",
        "    matrices = [np.arange(1,10).reshape(3,3), np.array([[0.5, 0.3, 0.1], [0.2, 0.4, 0.6], [0.9, 0.7, 0.8]]), \n",
        "                np.array([[15, 18, 13], [40, 74, 0], [4, 32, 4]])]\n",
        "    vectors = [np.array([1,2,3]), np.array([0.5, 0.7, 0.9]), np.array([20, 0, 12])]\n",
        "    sum_products = sum_prod(matrices, vectors)\n",
        "\n",
        "    assert np.array_equal(sum_products, [470.55, 832.92, 179.66]), \"Тест 2 не пройден\"\n",
        "    print('Тест 2 пройден')\n",
        "\n",
        "test2()"
      ]
    },
    {
      "cell_type": "markdown",
      "metadata": {
        "id": "TKwPG4fIy2w4"
      },
      "source": [
        "<h1>Задача 2. Дана матрица M, напишите функцию, которая бинаризует матрицу по некоторому threshold (то есть, все значения большие threshold становятся равными 1, иначе 0). Напишите тесты для кода"
      ]
    },
    {
      "cell_type": "code",
      "execution_count": 7,
      "metadata": {
        "id": "KQDNMgsjRNH7"
      },
      "outputs": [],
      "source": [
        "def binarize(M, threshold=0.5):\n",
        "    new_matrix = np.zeros((len(M), len(M[0])))\n",
        "    new_matrix[M > threshold] = 1\n",
        "    \n",
        "    return new_matrix"
      ]
    },
    {
      "cell_type": "markdown",
      "metadata": {},
      "source": [
        "# Тесты"
      ]
    },
    {
      "cell_type": "code",
      "execution_count": 44,
      "metadata": {},
      "outputs": [
        {
          "name": "stdout",
          "output_type": "stream",
          "text": [
            "Тест 1 пройден\n",
            "Тест 2 пройден\n"
          ]
        }
      ],
      "source": [
        "def test1():\n",
        "    matrix = np.array([[0.1, 0.7, 0.3],\n",
        "                        [0.6, 0.4, 0.9],\n",
        "                        [0.2, 0.8, 0.5]])\n",
        "    \n",
        "    bin_matrix = binarize(matrix)\n",
        "    \n",
        "    expected_res = np.array([[0, 1, 0],\n",
        "                            [1, 0, 1],\n",
        "                            [0, 1, 0]])\n",
        "    \n",
        "    assert np.array_equal(bin_matrix, expected_res), \"Тест 1 не пройден\"\n",
        "    print('Тест 1 пройден')\n",
        "\n",
        "test1()\n",
        "\n",
        "def test2():\n",
        "    matrix = np.array([[0.1, 0.7, 0.3],\n",
        "                        [0.6, 0.4, 0.9],\n",
        "                        [0.2, 0.8, 0.5]])\n",
        "    threshold = 0\n",
        "    \n",
        "    bin_matrix = binarize(matrix, threshold)\n",
        "    \n",
        "    expected_res = np.array([[1, 1, 1],\n",
        "                            [1, 1, 1],\n",
        "                            [1, 1, 1]])\n",
        "    \n",
        "    assert np.array_equal(bin_matrix, expected_res), \"Тест 2 не пройден\"\n",
        "    print('Тест 2 пройден')\n",
        "    \n",
        "\n",
        "test2()"
      ]
    },
    {
      "cell_type": "markdown",
      "metadata": {
        "id": "IY5L-h-7zWhN"
      },
      "source": [
        "<h1>Задача 3. Напишите функцию, которая возвращает уникальные элементы из каждой строки матрицы. Напишите такую же функцию, но для столбцов. Напишите тесты для кода"
      ]
    },
    {
      "cell_type": "code",
      "execution_count": 9,
      "metadata": {
        "id": "-8dEZhR0SBC-"
      },
      "outputs": [],
      "source": [
        "def unique_rows(mat):\n",
        "    unique_elements = []\n",
        "    for row in mat:\n",
        "        unique_elements.extend(np.unique(row))\n",
        "        \n",
        "    return unique_elements\n",
        "\n",
        "def unique_columns(mat):\n",
        "    transponsed_matrix = np.transpose(mat)\n",
        "    unique_elements = []\n",
        "    for row in transponsed_matrix:\n",
        "        unique_elements.extend(np.unique(row))\n",
        "    \n",
        "    return unique_elements"
      ]
    },
    {
      "cell_type": "markdown",
      "metadata": {},
      "source": [
        "# Тесты"
      ]
    },
    {
      "cell_type": "code",
      "execution_count": 42,
      "metadata": {},
      "outputs": [
        {
          "name": "stdout",
          "output_type": "stream",
          "text": [
            "Тест 1 для строк пройден\n",
            "Тест 2 для строк пройден\n",
            "Тест 1 для столбцов пройден\n",
            "Тест 2 для столбцов пройден\n"
          ]
        }
      ],
      "source": [
        "def test_rows_1():\n",
        "    matrix = np.array([[1, 2, 3],\n",
        "                   [4, 5, 6],\n",
        "                   [1, 2, 3]])\n",
        "    \n",
        "    res = unique_rows(matrix)\n",
        "\n",
        "    assert np.array_equal(res, [1, 2, 3, 4, 5, 6, 1, 2, 3]), \"Тест 1 для строк не пройден\"\n",
        "    print('Тест 1 для строк пройден')\n",
        "\n",
        "test_rows_1()\n",
        "\n",
        "def test_rows_2():\n",
        "    matrix = np.array([[1, 1, 1],\n",
        "                   [2, 2, 2],\n",
        "                   [3, 3, 3]])\n",
        "    \n",
        "    res = unique_rows(matrix)\n",
        "\n",
        "    assert np.array_equal(res, [1, 2, 3]), \"Тест 2 для строк не пройден\"\n",
        "    print('Тест 2 для строк пройден')\n",
        "\n",
        "test_rows_2()\n",
        "\n",
        "def test_columns_1():\n",
        "    matrix = np.array([[1, 2, 3],\n",
        "                   [4, 5, 6],\n",
        "                   [1, 2, 3]])\n",
        "    \n",
        "    res = unique_columns(matrix)\n",
        "\n",
        "    assert np.array_equal(res, [1, 4, 2, 5, 3, 6]), \"Тест 1 для столбцов не пройден\"\n",
        "    print('Тест 1 для столбцов пройден')\n",
        "\n",
        "test_columns_1()\n",
        "\n",
        "def test_columns_2():\n",
        "    matrix = np.array([[1, 1, 1],\n",
        "                   [2, 2, 2],\n",
        "                   [3, 3, 3]])\n",
        "    \n",
        "    res = unique_columns(matrix)\n",
        "\n",
        "    assert np.array_equal(res, [1, 2, 3, 1, 2, 3, 1, 2, 3]), \"Тест 2 для столбцов не пройден\"\n",
        "    print('Тест 2 для столбцов пройден')\n",
        "\n",
        "test_columns_2()"
      ]
    },
    {
      "cell_type": "markdown",
      "metadata": {
        "id": "roYAlo4Jz-lH"
      },
      "source": [
        "<h1>Задача 4. Напишите функцию, которая заполняет матрицу с размерами $(m, n)$ случайными числами, распределенными по нормальному закону. Затем считает мат. ожидание и дисперсию для каждого из столбцов и строк, а также строит для каждой строки и столбца гистограмму значений (использовать функцию hist из модуля matplotlib.plot)"
      ]
    },
    {
      "cell_type": "code",
      "execution_count": 23,
      "metadata": {
        "id": "nZK_71hMSQzv"
      },
      "outputs": [],
      "source": [
        "def fill_matrix(m, n):\n",
        "    matrix = np.random.normal(size=(m, n))\n",
        "    row_mat_expectation = np.mean(matrix, axis=1)\n",
        "    column_mat_expectation = np.mean(matrix, axis=0)\n",
        "    row_dispersion = np.var(matrix, axis=1)\n",
        "    column_dispersion = np.var(matrix, axis=0)\n",
        "\n",
        "    for i in range(m):\n",
        "        plt.hist(matrix[i], label=f\"Строка {i + 1}\")\n",
        "    plt.title('Гистограммы для строк')\n",
        "    plt.legend()\n",
        "    plt.show()\n",
        "\n",
        "    transponsed_matrix = np.transpose(matrix)\n",
        "    for i in range(n):\n",
        "        plt.hist(transponsed_matrix[i], label=f\"Столбец {i + 1}\")\n",
        "    plt.title('Гистограммы для столбцов')\n",
        "    plt.legend()\n",
        "    plt.show()\n",
        "\n",
        "    return matrix, row_mat_expectation, column_mat_expectation, row_dispersion, column_dispersion\n"
      ]
    },
    {
      "cell_type": "code",
      "execution_count": 25,
      "metadata": {},
      "outputs": [
        {
          "data": {
            "image/png": "[encoded data removed]",
            "text/plain": [
              "<Figure size 640x480 with 1 Axes>"
            ]
          },
          "metadata": {},
          "output_type": "display_data"
        },
        {
          "data": {
            "image/png": "[encoded data removed]",
            "text/plain": [
              "<Figure size 640x480 with 1 Axes>"
            ]
          },
          "metadata": {},
          "output_type": "display_data"
        },
        {
          "name": "stdout",
          "output_type": "stream",
          "text": [
            "Матрица:\n",
            "[[ 1.45104237  1.15766311 -1.48909049]\n",
            " [-0.78503509 -0.25216728 -0.05022188]\n",
            " [-2.86657773 -0.66324158 -2.52670399]]\n",
            "Мат ожидания строк: [ 0.373205   -0.36247475 -2.0188411 ]\n",
            "Мат ожидания столбцов: [-0.73352348  0.08075142 -1.35533879]\n",
            "Дисперии строк: [1.74841747 0.09607561 0.93807739]\n",
            "Дисперсии столбцов: [3.10830061 0.60803307 1.03110537]\n"
          ]
        }
      ],
      "source": [
        "\n",
        "matrix, row_mat_expectation, column_mat_expectation, row_dispersion, column_dispersion = fill_matrix(3, 3)\n",
        "\n",
        "print(f\"Матрица:\\n{matrix}\")\n",
        "print(f\"Мат ожидания строк: {row_mat_expectation}\")\n",
        "print(f\"Мат ожидания столбцов: {column_mat_expectation}\")\n",
        "print(f\"Дисперии строк: {row_dispersion}\")\n",
        "print(f\"Дисперсии столбцов: {column_dispersion}\")\n"
      ]
    },
    {
      "cell_type": "markdown",
      "metadata": {
        "id": "BDyATNdM0dJ2"
      },
      "source": [
        "<h1>Задача 5. Напишите функцию, которая заполняет матрицу $(m, n)$ в шахматном порядке заданными числами $a$ и $b$. Напишите тесты для кода"
      ]
    },
    {
      "cell_type": "code",
      "execution_count": 26,
      "metadata": {
        "id": "RWNJYWQGecS6"
      },
      "outputs": [],
      "source": [
        "def chess(m, n, a, b):\n",
        "    matrix = np.zeros((m, n))\n",
        "    for i in range(m):\n",
        "        for j in range(n):\n",
        "            if (i + j) % 2 == 0:\n",
        "                matrix[i][j] = a\n",
        "            else:\n",
        "                matrix[i][j] = b\n",
        "    \n",
        "    return matrix"
      ]
    },
    {
      "cell_type": "markdown",
      "metadata": {},
      "source": [
        "# Тесты"
      ]
    },
    {
      "cell_type": "code",
      "execution_count": 48,
      "metadata": {},
      "outputs": [
        {
          "name": "stdout",
          "output_type": "stream",
          "text": [
            "Тест 1 пройден\n",
            "Тест 2 пройден\n"
          ]
        }
      ],
      "source": [
        "def test1():\n",
        "    matrix = chess(3, 3, 1, 2)\n",
        "    expected_matrix = np.array([[1, 2, 1], [2, 1, 2], [1, 2, 1]])\n",
        "\n",
        "    assert np.array_equal(matrix, expected_matrix), \"Тест 1 не пройден\"\n",
        "    print('Тест 1 пройден')\n",
        "\n",
        "test1()\n",
        "\n",
        "def test2():\n",
        "    matrix = chess(4, 2, 5, 0)\n",
        "    expected_matrix = np.array([[5, 0], [0, 5], [5, 0], [0, 5]])\n",
        "\n",
        "    # print(f\"test 2: {np.array_equal(matrix, expected_matrix)}\")\n",
        "    assert np.array_equal(matrix, expected_matrix), \"Тест 2 не пройден\"\n",
        "    print('Тест 2 пройден')\n",
        "\n",
        "test2()"
      ]
    },
    {
      "cell_type": "markdown",
      "metadata": {
        "id": "-ymXLtTN0vB6"
      },
      "source": [
        "<h1>Задача 6. Напишите функцию, которая отрисовывает прямоугольник с заданными размерами (a, b) на изображении размера (m, n), цвет фона задайте в схеме RGB, как и цвет прямоугольника. Цвета также должны быть параметрами функции. Напишите аналогичную функцию но для овала с полуосями a и b. Напишите тесты для кода.\n",
        "Примечание: уравнение эллипса (границы овала) можно записать как:\n",
        "<h1>$\\frac{(x-x_0)^2}{a^2}+\\frac{(y-y_0)^2}{b^2}=1$"
      ]
    },
    {
      "cell_type": "code",
      "execution_count": 51,
      "metadata": {
        "id": "sNfl1t_kfOF4"
      },
      "outputs": [],
      "source": [
        "def draw_rectangle(a, b, m, n, rectangle_color, background_color):\n",
        "    # Your code goes here\n",
        "    pass\n",
        "\n",
        "def draw_ellipse(a, b, m, n, ellipse_color, background_color):\n",
        "    # Your code goes here\n",
        "    pass"
      ]
    },
    {
      "cell_type": "markdown",
      "metadata": {
        "id": "S82c38oz244H"
      },
      "source": [
        "<h1>Задача 7. Дан некий временной ряд. Для данного ряда нужно найти его: математическое ожидание, дисперсию, СКО, найти все локальные максимумы и минимумы (локальный максимум - это точка, которая больше своих соседних точек, а локальный минимум - это точка, которая меньше своих соседей), а также вычислить для данного ряда другой ряд, получаемый методом скользящего среднего с размером окна $p$.\n",
        "<h1>Примечание: метод скользящего среднего подразумевает нахождение среднего из подмножетсва ряда размером $p$"
      ]
    },
    {
      "cell_type": "code",
      "execution_count": null,
      "metadata": {
        "id": "Zb9mIVge5MMt"
      },
      "outputs": [],
      "source": [
        "# Your code goes here"
      ]
    },
    {
      "cell_type": "markdown",
      "metadata": {
        "id": "jPkylmOX5O9n"
      },
      "source": [
        "<h1> Задача 8. Дан некоторый вектор с целочисленными метками классов, напишите функцию, которая выполняет one-hot-encoding для данного вектора\n",
        "<h1> One-hot-encoding - представление, в котором на месте метки некоторого класса стоит 1, в остальных позициях стоит 0. Например для вектора [0, 2, 3, 0] one-hot-encoding выглядит как: [[1, 0, 0, 0], [0, 0, 1, 0], [0, 0, 0, 1], [1, 0, 0, 0]]"
      ]
    },
    {
      "cell_type": "code",
      "execution_count": null,
      "metadata": {
        "id": "Y-jlnZvw56lD"
      },
      "outputs": [],
      "source": [
        "# Your code goes here"
      ]
    }
  ],
  "metadata": {
    "colab": {
      "provenance": []
    },
    "kernelspec": {
      "display_name": "Python 3",
      "name": "python3"
    },
    "language_info": {
      "codemirror_mode": {
        "name": "ipython",
        "version": 3
      },
      "file_extension": ".py",
      "mimetype": "text/x-python",
      "name": "python",
      "nbconvert_exporter": "python",
      "pygments_lexer": "ipython3",
      "version": "3.11.5"
    }
  },
  "nbformat": 4,
  "nbformat_minor": 0
}
