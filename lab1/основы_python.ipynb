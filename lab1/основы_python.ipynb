{
  "cells": [
    {
      "cell_type": "markdown",
      "metadata": {
        "id": "M-DGa20PaHnu"
      },
      "source": [
        "# Задача 1\n",
        "Написать функцию на вход которой подается строка, состоящая из латинских букв.\n",
        "Функция должна вернуть количество гласных букв (a, e, i, o, u) в этой строке. Написать тесты для кода"
      ]
    },
    {
      "cell_type": "code",
      "execution_count": 5,
      "metadata": {
        "id": "XvX8X_JJ6PCb"
      },
      "outputs": [],
      "source": [
        "from types import List\n",
        "\n",
        "def count_vowels(string: str) -> List[int]:\n",
        "    vowels = 'aeiou'\n",
        "    freq_dict = dict()\n",
        "    for letter in vowels:\n",
        "        freq_dict[letter] = 0\n",
        "    \n",
        "    for letter in string:\n",
        "        if letter in freq_dict:\n",
        "            freq_dict[letter] += 1\n",
        "    return list(freq_dict.values())"
      ]
    },
    {
      "cell_type": "markdown",
      "metadata": {},
      "source": [
        "# Тесты"
      ]
    },
    {
      "cell_type": "code",
      "execution_count": 14,
      "metadata": {},
      "outputs": [
        {
          "name": "stdout",
          "output_type": "stream",
          "text": [
            "test 1: True\n",
            "test 2: True\n",
            "test 3: True\n",
            "test 4: True\n"
          ]
        }
      ],
      "source": [
        "test1 = count_vowels('uoeia')\n",
        "print(f\"test 1: {test1 == [1, 1, 1, 1, 1]}\")\n",
        "\n",
        "test2 = count_vowels('qwrty')\n",
        "print(f\"test 2: {test2 == [0, 0, 0, 0, 0]}\")\n",
        "\n",
        "test3 = count_vowels('hasjfhskadjfhskdfhkafjapodsnvsdhnvpoawejfpwe')\n",
        "print(f\"test 3: {test3 == [5, 2, 0, 2, 0]}\")\n",
        "\n",
        "test4 = count_vowels('')\n",
        "print(f\"test 4: {test2 == [0, 0, 0, 0, 0]}\")\n"
      ]
    },
    {
      "cell_type": "markdown",
      "metadata": {
        "id": "t2ClV_Y0bbr6"
      },
      "source": [
        "# Задача 2\n",
        "Написать функцию на вход, которой подается строка. Функция должна вернуть true, если\n",
        "каждый символ в строке встречается только 1 раз, иначе должна вернуть false. Написать тесты для кода"
      ]
    },
    {
      "cell_type": "code",
      "execution_count": 18,
      "metadata": {
        "id": "FppbECao6VIz"
      },
      "outputs": [],
      "source": [
        "def are_not_duplicates(string: str) -> bool:\n",
        "    freq_dict = dict()\n",
        "\n",
        "    for char in string:\n",
        "        if char in freq_dict:\n",
        "            return False\n",
        "        else:\n",
        "            freq_dict[char] = 1\n",
        "    return True"
      ]
    },
    {
      "cell_type": "markdown",
      "metadata": {},
      "source": [
        "# Тесты"
      ]
    },
    {
      "cell_type": "code",
      "execution_count": 19,
      "metadata": {},
      "outputs": [
        {
          "name": "stdout",
          "output_type": "stream",
          "text": [
            "test 1: True\n",
            "test 2: True\n",
            "test 3: True\n",
            "test 4: True\n"
          ]
        }
      ],
      "source": [
        "print(f\"test 1: {are_not_duplicates('qwerty') == True}\")\n",
        "print(f\"test 2: {are_not_duplicates('qwerrty') == False}\")\n",
        "print(f\"test 3: {are_not_duplicates('') == True}\")\n",
        "print(f\"test 4: {are_not_duplicates('qqqqqqqqqqqqqqqqqqqqqqqqq') == False}\")"
      ]
    },
    {
      "cell_type": "markdown",
      "metadata": {
        "id": "udRiIK1cdt6E"
      },
      "source": [
        "# Задача 3\n",
        "Написать функцию, которая принимает положительное число и возвращает количество\n",
        "бит равных 1 в этом числе. Написать тесты для кода"
      ]
    },
    {
      "cell_type": "code",
      "execution_count": 25,
      "metadata": {
        "id": "6tkfDJRz6dp_"
      },
      "outputs": [],
      "source": [
        "def count_bits_equal_to_1(number: int) -> int:\n",
        "    bin_number = ''\n",
        "    while number > 0:\n",
        "        bin_number = str(number % 2) + bin_number\n",
        "        number //= 2\n",
        "    \n",
        "    return bin_number.count('1')\n"
      ]
    },
    {
      "cell_type": "markdown",
      "metadata": {},
      "source": [
        "# Тесты"
      ]
    },
    {
      "cell_type": "code",
      "execution_count": 29,
      "metadata": {},
      "outputs": [
        {
          "name": "stdout",
          "output_type": "stream",
          "text": [
            "test 1: True\n",
            "test 2: True\n",
            "test 3: True\n"
          ]
        }
      ],
      "source": [
        "print(f\"test 1: {count_bits_equal_to_1(7) == 3}\")\n",
        "print(f\"test 2: {count_bits_equal_to_1(0) == 0}\")\n",
        "print(f\"test 3: {count_bits_equal_to_1(4234) == 4}\")"
      ]
    },
    {
      "cell_type": "markdown",
      "metadata": {
        "id": "26dDUz-Ae17N"
      },
      "source": [
        "# Задача 4\n",
        "Написать функцию, которая принимает положительное число. Функция должна вернуть то,\n",
        "сколько раз необходимо перемножать цифры числа или результат перемножения, чтобы\n",
        "получилось число состоящее из одной цифры.\n",
        "Например, для входного числа:\n",
        "· 39 функция должна вернуть 3, так как 3*9=27 => 2*7=14 => 1*4=4\n",
        "· 4 функция должна вернуть 0, так как число уже состоит из одной цифры\n",
        "· 999 функция должна вернуть 4, так как 9*9*9=729 => 7*2*9=126 => 1*2*6=12 =>\n",
        "1*2=2. Написать тесты для кода"
      ]
    },
    {
      "cell_type": "code",
      "execution_count": 2,
      "metadata": {
        "id": "BH1A_Mgi6i4G"
      },
      "outputs": [],
      "source": [
        "def magic(n):\n",
        "    counter = 0\n",
        "    if n < 10:\n",
        "        return counter\n",
        "    \n",
        "    while n >= 10:\n",
        "        n_string = str(n)\n",
        "        product = 1\n",
        "        for digit in n_string:\n",
        "            product *= int(digit)\n",
        "        n = product\n",
        "        counter += 1\n",
        "    return counter\n"
      ]
    },
    {
      "cell_type": "markdown",
      "metadata": {},
      "source": [
        "# Тесты"
      ]
    },
    {
      "cell_type": "code",
      "execution_count": 4,
      "metadata": {},
      "outputs": [
        {
          "name": "stdout",
          "output_type": "stream",
          "text": [
            "test 1: True\n",
            "test 2: True\n",
            "test 3: True\n",
            "test 4: True\n"
          ]
        }
      ],
      "source": [
        "print(f\"test 1: {magic(39) == 3}\")\n",
        "print(f\"test 2: {magic(999) == 4}\")\n",
        "print(f\"test 3: {magic(4) == 0}\")\n",
        "print(f\"test 4: {magic(900) == 1}\")"
      ]
    },
    {
      "cell_type": "markdown",
      "metadata": {
        "id": "0nS-kIa8g8vd"
      },
      "source": [
        "# Задача 5\n",
        "Написать функцию, которая принимает два целочисленных вектора одинаковой длины и\n",
        "возвращает среднеквадратическое отклонение двух векторов. Написать тесты для кода"
      ]
    },
    {
      "cell_type": "code",
      "execution_count": 30,
      "metadata": {
        "id": "8iphx4LM6xbx"
      },
      "outputs": [
        {
          "name": "stdout",
          "output_type": "stream",
          "text": [
            "5.0\n"
          ]
        }
      ],
      "source": [
        "def mse(pred, true):\n",
        "    # Вычисление квадратов разностей между соответствующими элементами векторов\n",
        "    squared_diff = [(x - y) ** 2 for x, y in zip(pred, true)]\n",
        "\n",
        "    # Вычисление среднеквадратического отклонения\n",
        "    msd = sum(squared_diff) / len(pred)\n",
        "    \n",
        "    return msd\n",
        "\n",
        "print(mse([3, 4], [0, 5]))"
      ]
    },
    {
      "cell_type": "markdown",
      "metadata": {},
      "source": [
        "# Тесты"
      ]
    },
    {
      "cell_type": "code",
      "execution_count": 31,
      "metadata": {},
      "outputs": [
        {
          "name": "stdout",
          "output_type": "stream",
          "text": [
            "test 1: True\n"
          ]
        }
      ],
      "source": [
        "print(f\"test 1: {mse([3, 4], [0, 5]) == 5.0}\")"
      ]
    },
    {
      "cell_type": "markdown",
      "metadata": {
        "id": "vpIPKL439zkw"
      },
      "source": [
        "# Задача 6\n",
        "Написать функцию, принимающая целое положительное число. Функция должна вернуть\n",
        "строку вида “(n1\\**p1)(n2\\**p2)…(nk\\**pk)” представляющая разложение числа на простые\n",
        "множители (если pi == 1, то выводить только ni).\n",
        "Например, для числа 86240 функция должна вернуть “(2\\**5)(5)(7\\**2)(11)”. Написать тесты для кода"
      ]
    },
    {
      "cell_type": "code",
      "execution_count": 25,
      "metadata": {
        "id": "pFebmcZk94Jw"
      },
      "outputs": [
        {
          "name": "stdout",
          "output_type": "stream",
          "text": [
            "(1)\n"
          ]
        }
      ],
      "source": [
        "def multuply(number):\n",
        "    if number == 1:\n",
        "        return f\"(1)\"\n",
        "    \n",
        "    dividers = dict()\n",
        "    for i in range(2, number + 1):\n",
        "        while number % i == 0:\n",
        "            if i in dividers:\n",
        "                dividers[i] += 1\n",
        "            else:\n",
        "                dividers[i] = 1\n",
        "            number //= i\n",
        "    \n",
        "    res = ''\n",
        "    for divider in dividers:\n",
        "        if dividers[divider] == 1:\n",
        "            res += f\"({divider})\"\n",
        "        else:\n",
        "            res += f\"({divider}**{dividers[divider]})\"\n",
        "    \n",
        "    return res\n",
        "\n",
        "print(multuply(1))"
      ]
    },
    {
      "cell_type": "markdown",
      "metadata": {},
      "source": [
        "# Тесты"
      ]
    },
    {
      "cell_type": "code",
      "execution_count": 27,
      "metadata": {},
      "outputs": [
        {
          "name": "stdout",
          "output_type": "stream",
          "text": [
            "test 1: True\n",
            "test 2: True\n",
            "test 3: True\n",
            "(1)\n"
          ]
        }
      ],
      "source": [
        "print(f\"test 1: {multuply(86240) == '(2**5)(5)(7**2)(11)'}\")\n",
        "print(f\"test 2: {multuply(243275) == '(5**2)(37)(263)'}\")\n",
        "print(f\"test 3: {multuply(1) == '(1)'}\")"
      ]
    },
    {
      "cell_type": "markdown",
      "metadata": {
        "id": "ps2s0BudX7A2"
      },
      "source": [
        "# Задача 7\n",
        "Написать функцию, принимающая целое число n, задающее количество кубиков. Функция\n",
        "должна определить, можно ли из данного кол-ва кубиков построить пирамиду, то есть\n",
        "можно ли представить число n как 1^2+2^2+3^2+…+k^2. Если можно, то функция должна\n",
        "вернуть k, иначе строку “It is impossible”. Написать тесты для кода"
      ]
    },
    {
      "cell_type": "code",
      "execution_count": 11,
      "metadata": {
        "id": "3YPjEXxhX_YT"
      },
      "outputs": [],
      "source": [
        "def pyramid(number):\n",
        "    k = 1\n",
        "    while True:\n",
        "        number -= k ** 2\n",
        "        if number < 0:\n",
        "            return 'It is impossible'\n",
        "        elif number == 0:\n",
        "            return k\n",
        "        else:\n",
        "            k += 1"
      ]
    },
    {
      "cell_type": "markdown",
      "metadata": {},
      "source": [
        "# Тесты"
      ]
    },
    {
      "cell_type": "code",
      "execution_count": 13,
      "metadata": {},
      "outputs": [
        {
          "name": "stdout",
          "output_type": "stream",
          "text": [
            "test 1: True\n",
            "test 2: True\n",
            "test 3: True\n"
          ]
        }
      ],
      "source": [
        "print(f\"test 1: {pyramid(5) == 2}\")\n",
        "print(f\"test 2: {pyramid(4) == 'It is impossible'}\")\n",
        "print(f\"test 3: {pyramid(385) == 10}\")\n"
      ]
    },
    {
      "cell_type": "markdown",
      "metadata": {
        "id": "KeKgmIdAQMEJ"
      },
      "source": [
        "# Задача 8\n",
        "Функция принимает на вход положительное число и определяет является ли оно сбалансированным, т.е. сумма цифр до средних равна сумме цифр после. Средними в случае нечетного числа цифр считать одну цифру, в случае четного - две средних. Написать тесты для кода"
      ]
    },
    {
      "cell_type": "code",
      "execution_count": 31,
      "metadata": {
        "id": "gMAAqtqlQrZt"
      },
      "outputs": [],
      "source": [
        "def is_number_balanced(number: int) -> True:\n",
        "    string_number = str(number)\n",
        "    len_number = len(string_number)\n",
        "    first_part = string_number[:(len_number // 2 + len_number % 2)]\n",
        "    second_part = string_number[(len_number // 2):]\n",
        "    first_part_sum = 0\n",
        "    second_part_sum = 0\n",
        "\n",
        "    for i in range(len(first_part)):\n",
        "        first_part_sum += int(first_part[i])\n",
        "        second_part_sum += int(second_part[i])\n",
        "    \n",
        "    return first_part_sum == second_part_sum\n"
      ]
    },
    {
      "cell_type": "markdown",
      "metadata": {},
      "source": [
        "# Тесты"
      ]
    },
    {
      "cell_type": "code",
      "execution_count": 42,
      "metadata": {},
      "outputs": [
        {
          "name": "stdout",
          "output_type": "stream",
          "text": [
            "test 1: True\n",
            "test 2: True\n",
            "test 3: True\n",
            "test 4: True\n",
            "test 5: True\n"
          ]
        }
      ],
      "source": [
        "print(f\"test 1: {is_number_balanced(123321) == True}\")\n",
        "print(f\"test 2: {is_number_balanced(1234321) == True}\")\n",
        "print(f\"test 3: {is_number_balanced(415901) == True}\")\n",
        "print(f\"test 4: {is_number_balanced(654321) == False}\")\n",
        "print(f\"test 5: {is_number_balanced(153259) == False}\")"
      ]
    }
  ],
  "metadata": {
    "colab": {
      "provenance": []
    },
    "kernelspec": {
      "display_name": "Python 3",
      "name": "python3"
    },
    "language_info": {
      "codemirror_mode": {
        "name": "ipython",
        "version": 3
      },
      "file_extension": ".py",
      "mimetype": "text/x-python",
      "name": "python",
      "nbconvert_exporter": "python",
      "pygments_lexer": "ipython3",
      "version": "3.11.5"
    }
  },
  "nbformat": 4,
  "nbformat_minor": 0
}
